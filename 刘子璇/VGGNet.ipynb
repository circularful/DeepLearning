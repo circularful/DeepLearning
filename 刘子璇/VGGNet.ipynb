{
 "cells": [
  {
   "cell_type": "markdown",
   "metadata": {},
   "source": [
    "## 导入包"
   ]
  },
  {
   "cell_type": "code",
   "execution_count": 9,
   "metadata": {},
   "outputs": [],
   "source": [
    "import tensorflow as tf\n",
    "from matplotlib import pyplot as plt\n",
    "from PIL import Image\n",
    "from keras.layers import Input\n",
    "from keras.layers import Conv2D, MaxPool2D, Dense, Flatten, Dropout\n",
    "from keras.models import Model\n",
    "from keras import optimizers\n",
    "from keras.utils import plot_model\n",
    "import numpy as np\n",
    "import cv2\n",
    "import time"
   ]
  },
  {
   "cell_type": "markdown",
   "metadata": {},
   "source": [
    "## 使用Keras构建模型"
   ]
  },
  {
   "cell_type": "code",
   "execution_count": 7,
   "metadata": {},
   "outputs": [],
   "source": [
    "def vgg_model(input_shape=(224,224,3), nclass=1000):\n",
    "    \"\"\"\n",
    "    build vgg13 model using keras with TensorFlow backend.\n",
    "    :param input_shape: input shape of network, default as (224,224,3)\n",
    "    :param nclass: numbers of class(output shape of network), default as 1000\n",
    "    :return: vgg13 model\n",
    "    \"\"\"\n",
    "    VGG = Sequential()\n",
    "    ##重复构造，搭建神经网络 \n",
    "    VGG.add(Conv2D(64,kernel_size=(3,3),strides=(1,1),padding='same',activation='relu',input_shape=input_shape))\n",
    "    VGG.add(Conv2D(64,kernel_size=(3,3),strides=(1,1),padding='same',activation='relu'))\n",
    "    VGG.add(MaxPool2D(pool_size=(2,2), strides=(2,2), padding='same'))\n",
    "    \n",
    "    VGG.add(Conv2D(128, kernel_size=(3, 3), strides=(1, 1), padding='same', activation='relu'))\n",
    "    VGG.add(Conv2D(128, kernel_size=(3, 3), strides=(1, 1), padding='same', activation='relu'))\n",
    "    VGG.add(MaxPool2D(pool_size=(2, 2), strides=(2, 2), padding='same'))\n",
    "    \n",
    "    VGG.add(Conv2D(256, kernel_size=(3, 3), strides=(1, 1), padding='same', activation='relu'))\n",
    "    VGG.add(Conv2D(256, kernel_size=(3, 3), strides=(1, 1), padding='same', activation='relu'))\n",
    "    VGG.add(MaxPool2D(pool_size=(2, 2), strides=(2, 2), padding='same'))\n",
    "    \n",
    "    VGG.add(Conv2D(512, kernel_size=(3, 3), strides=(1, 1), padding='same', activation='relu'))\n",
    "    VGG.add(Conv2D(512, kernel_size=(3, 3), strides=(1, 1), padding='same', activation='relu'))\n",
    "    VGG.add(MaxPool2D(pool_size=(2, 2), strides=(2, 2), padding='same'))\n",
    "    \n",
    "    VGG.add(Conv2D(512, kernel_size=(3, 3), strides=(1, 1), padding='same', activation='relu'))\n",
    "    VGG.add(Conv2D(512, kernel_size=(3, 3), strides=(1, 1), padding='same', activation='relu'))\n",
    "    VGG.add(MaxPool2D(pool_size=(2, 2), strides=(2, 2), padding='same'))\n",
    "    \n",
    "    ###把当前层节点展平 \n",
    "    VGG.add(Flatten())\n",
    "    VGG.add(Dense(4096, activation='relu'))\n",
    "    VGG.add(Dropout(0.5))\n",
    "    VGG.add(Dense(4096, activation='relu'))\n",
    "    VGG.add(Dropout(0.5))\n",
    "    output_ = Dense(nclass, activation='softmax')(VGG)\n",
    "    \n",
    "    model = Model(inputs=input_, outputs=output_)\n",
    "    model.summary()\n",
    " \n",
    "    opti_sgd = optimizers.sgd(lr=0.01, momentum=0.9, nesterov=True)\n",
    " \n",
    "    model.compile(loss='categorical_crossentropy', optimizer=opti_sgd, metrics=['accuracy'])\n",
    " \n",
    "    return model"
   ]
  },
  {
   "cell_type": "markdown",
   "metadata": {},
   "source": [
    "## 风格转换"
   ]
  },
  {
   "cell_type": "code",
   "execution_count": 6,
   "metadata": {},
   "outputs": [],
   "source": [
    "#model = VGG()\n",
    "#plot_model(model,'VGG.png')#保存模型图\n",
    "def style_transfer(pathIn='',\n",
    "                   pathOut='',\n",
    "                   model='',\n",
    "                   width=None,\n",
    "                   jpg_quality=80):\n",
    "    '''\n",
    "    pathIn: 原始图片的路径\n",
    "    pathOut: 风格化图片的保存路径\n",
    "    model: 预训练模型的路径\n",
    "    width: 设置风格化图片的宽度，默认为None, 即原始图片尺寸\n",
    "    jpg_quality: 0-100，设置输出图片的质量，默认80，越大图片质量越好\n",
    "    '''\n",
    "    \n",
    "    ## 读入原始图片，调整图片至所需尺寸，然后获取图片的宽度和高度\n",
    "    img = cv2.imread(pathIn)\n",
    "    (h, w) = img.shape[:2]\n",
    "    if width is not None:\n",
    "        img = cv2.resize(img, (width, round(width*h/w)), interpolation=cv2.INTER_CUBIC)\n",
    "        (h, w) = img.shape[:2]\n",
    "    \n",
    "    ## 从本地加载预训练模型\n",
    "    #print('加载预训练模型......')\n",
    "    #net = cv2.dnn.readNetFromTorch(model)\n",
    "    \n",
    "    ## 将图片构建成一个blob：设置图片尺寸，将各通道像素值减去平均值（比如ImageNet所有训练样本各通道统计平均值）\n",
    "    ## 然后执行一次前馈网络计算，并输出计算所需的时间\n",
    "    blob = cv2.dnn.blobFromImage(img, 1.0, (w, h), (103.939, 116.779, 123.680), swapRB=False, crop=False)\n",
    "    model.setInput(blob)\n",
    "    start = time.time()\n",
    "    output = model.forward()\n",
    "    end = time.time()\n",
    "    print(\"风格迁移花费：{:.2f}秒\".format(end - start))\n",
    "\n",
    "    ## reshape输出结果, 将减去的平均值加回来，并交换各颜色通道\n",
    "    output = output.reshape((3, output.shape[2], output.shape[3]))\n",
    "    output[0] += 103.939\n",
    "    output[1] += 116.779\n",
    "    output[2] += 123.680\n",
    "    output = output.transpose(1, 2, 0)\n",
    "    \n",
    "    ## 输出风格化后的图片\n",
    "    cv2.imwrite(pathOut, output, [int(cv2.IMWRITE_JPEG_QUALITY), jpg_quality])"
   ]
  },
  {
   "cell_type": "markdown",
   "metadata": {},
   "source": [
    "## 导入图片"
   ]
  },
  {
   "cell_type": "code",
   "execution_count": 14,
   "metadata": {},
   "outputs": [],
   "source": [
    "for i in range(1,6):\n",
    "    img = cv2.imread(./img/img0+str(i)+'.jpg')\n",
    "    (h, w) = img.shape[:2]\n",
    "    img = cv2.resize(img, (width, round(width*h/w)), interpolation=cv2.INTER_CUBIC)\n",
    "    (h, w) = img.shape[:2]\n",
    "#pathIn = './img/img02.jpg'\n",
    "#pathOut = './result/result_img01_1.jpg'\n",
    "#model = vgg_model(input_shape='')\n",
    "#style_transfer(pathIn, pathOut, model, width=500)"
   ]
  },
  {
   "cell_type": "code",
   "execution_count": 10,
   "metadata": {},
   "outputs": [],
   "source": [
    "## 读入图片，并转为浮点数组，且减去128.0，以0为中心，加快收敛速度\n",
    "style = Image.open('./img/star.jpg')\n",
    "style = style.resize((224,224),Image.ANTIALIAS)\n",
    "style = np.array(style)\n",
    "style = style.reshape(224,224,3)\n",
    "style = style.astype(np.float32) - 128.0\n",
    "\n",
    "content = Image.open('./img/img01.jpg')\n",
    "content = content.resize((224,224),Image.ANTIALIAS)\n",
    "content = np.array(content)\n",
    "content = content.reshape(224,224,3)\n",
    "content = content.astype(np.float32) - 128.0\n",
    "#style = np.array(style).astype(np.float32) - 128.0\n",
    "#content = cv2.imread('./img/img01.jpg')\n",
    "#content = np.array(content).astype(np.float32) - 128.0"
   ]
  },
  {
   "cell_type": "code",
   "execution_count": 15,
   "metadata": {},
   "outputs": [
    {
     "name": "stdout",
     "output_type": "stream",
     "text": [
      "(224, 224, 3)\n",
      "(224, 224, 3)\n"
     ]
    }
   ],
   "source": [
    "print(content.shape)\n",
    "print(style.shape)"
   ]
  },
  {
   "cell_type": "code",
   "execution_count": 16,
   "metadata": {},
   "outputs": [
    {
     "name": "stderr",
     "output_type": "stream",
     "text": [
      "Clipping input data to the valid range for imshow with RGB data ([0..1] for floats or [0..255] for integers).\n"
     ]
    },
    {
     "data": {
      "text/plain": [
       "<matplotlib.image.AxesImage at 0x7f0886ccf2b0>"
      ]
     },
     "execution_count": 16,
     "metadata": {},
     "output_type": "execute_result"
    },
    {
     "data": {
      "image/png": "[encoded data removed]",
      "text/plain": [
       "<Figure size 432x288 with 1 Axes>"
      ]
     },
     "metadata": {
      "needs_background": "light"
     },
     "output_type": "display_data"
    }
   ],
   "source": [
    "plt.imshow(style)"
   ]
  },
  {
   "cell_type": "code",
   "execution_count": 17,
   "metadata": {
    "scrolled": true
   },
   "outputs": [
    {
     "name": "stderr",
     "output_type": "stream",
     "text": [
      "Clipping input data to the valid range for imshow with RGB data ([0..1] for floats or [0..255] for integers).\n"
     ]
    },
    {
     "data": {
      "text/plain": [
       "<matplotlib.image.AxesImage at 0x7f0884ad9cc0>"
      ]
     },
     "execution_count": 17,
     "metadata": {},
     "output_type": "execute_result"
    },
    {
     "data": {
      "image/png": "[encoded data removed]",
      "text/plain": [
       "<Figure size 432x288 with 1 Axes>"
      ]
     },
     "metadata": {
      "needs_background": "light"
     },
     "output_type": "display_data"
    }
   ],
   "source": [
    "plt.imshow(content)"
   ]
  },
  {
   "cell_type": "markdown",
   "metadata": {},
   "source": [
    "## 风格转化"
   ]
  },
  {
   "cell_type": "code",
   "execution_count": 23,
   "metadata": {},
   "outputs": [],
   "source": [
    "def stylize(style_image,content_image,learning_rate=0.1,epochs=500): \n",
    "    # 结果图片 \n",
    "    target = tf.Variable(tf.random_normal(content_image.shape),dtype=tf.float32) \n",
    "    style_input = tf.constant(style_image,dtype=tf.float32) \n",
    "    content_input = tf.constant(content_image, dtype=tf.float32) \n",
    "    cost = loss_function(style_input,content_input,target) \n",
    "    train_op = tf.train.AdamOptimizer(learning_rate).minimize(cost) \n",
    "    with tf.Session(config=tf.ConfigProto(log_device_placement=True)) as sess: \n",
    "        tf.initialize_all_variables().run() \n",
    "        for i in range(epochs): \n",
    "            _,loss,target_image = sess.run([train_op,cost,target]) \n",
    "            print(\"iter:%d,loss:%.9f\" % (i, loss)) \n",
    "            if (i+1) % 100 == 0: \n",
    "                image = np.clip(target_image + 128,0,255).astype(np.uint8) \n",
    "                Image.fromarray(image).save(\"./neural_me_%d.jpg\" % (i + 1))"
   ]
  },
  {
   "cell_type": "code",
   "execution_count": null,
   "metadata": {},
   "outputs": [],
   "source": [
    "stylize = stylize(style,content,0.5,500)"
   ]
  },
  {
   "cell_type": "markdown",
   "metadata": {},
   "source": [
    "## 加载VGG-19模型"
   ]
  },
  {
   "cell_type": "code",
   "execution_count": null,
   "metadata": {},
   "outputs": [],
   "source": [
    "_vgg_params = None \n",
    "def vgg_params(): \n",
    "    global _vgg_params \n",
    "    if _vgg_params is None: \n",
    "        _vgg_params = sio.loadmat('/media/liuzixuan/DATA/学业/2018-2019学年/2018-2019第一学期/机器学习/项目实训/小组实训/02-用Python快速实现图片的风格迁移/imagenet-vgg-verydeep-19.mat') \n",
    "    return _vgg_params"
   ]
  },
  {
   "cell_type": "code",
   "execution_count": null,
   "metadata": {},
   "outputs": [],
   "source": []
  },
  {
   "cell_type": "code",
   "execution_count": null,
   "metadata": {},
   "outputs": [],
   "source": []
  },
  {
   "cell_type": "code",
   "execution_count": null,
   "metadata": {},
   "outputs": [],
   "source": []
  },
  {
   "cell_type": "code",
   "execution_count": null,
   "metadata": {},
   "outputs": [],
   "source": []
  },
  {
   "cell_type": "code",
   "execution_count": null,
   "metadata": {},
   "outputs": [],
   "source": []
  }
 ],
 "metadata": {
  "kernelspec": {
   "display_name": "Python 3",
   "language": "python",
   "name": "python3"
  },
  "language_info": {
   "codemirror_mode": {
    "name": "ipython",
    "version": 3
   },
   "file_extension": ".py",
   "mimetype": "text/x-python",
   "name": "python",
   "nbconvert_exporter": "python",
   "pygments_lexer": "ipython3",
   "version": "3.5.2"
  }
 },
 "nbformat": 4,
 "nbformat_minor": 2
}
