{
 "cells": [
  {
   "cell_type": "code",
   "execution_count": 1,
   "metadata": {},
   "outputs": [],
   "source": [
    "# Import what we need\n",
    "import os\n",
    "import sys\n",
    "import numpy as np\n",
    "import scipy.io\n",
    "import scipy.misc\n",
    "import tensorflow as tf  # Import TensorFlow after Scipy or Scipy will break\n",
    "import matplotlib.pyplot as plt\n",
    "from matplotlib.pyplot import imshow\n",
    "from PIL import Image\n",
    "%matplotlib inline"
   ]
  },
  {
   "cell_type": "code",
   "execution_count": 55,
   "metadata": {},
   "outputs": [],
   "source": [
    "###############################################################################\n",
    "# Constants for the image input and output.\n",
    "###############################################################################\n",
    "\n",
    "# Output folder for the images.\n",
    "OUTPUT_DIR = '/home/liuzixuan/实训/02-用Python快速实现图片的风格迁移/output/'\n",
    "# Style image to use.\n",
    "STYLE_IMAGE = '/home/liuzixuan/实训/02-用Python快速实现图片的风格迁移/img/star.jpg'\n",
    "# Content image to use.\n",
    "CONTENT_IMAGE = '/home/liuzixuan/实训/02-用Python快速实现图片的风格迁移/img/img01.jpg'\n",
    "# Image dimensions constants. \n",
    "IMAGE_WIDTH = 224\n",
    "IMAGE_HEIGHT = 224\n",
    "COLOR_CHANNELS = 3"
   ]
  },
  {
   "cell_type": "code",
   "execution_count": 3,
   "metadata": {},
   "outputs": [],
   "source": [
    "###############################################################################\n",
    "# Algorithm constants\n",
    "###############################################################################\n",
    "# Noise ratio. Percentage of weight of the noise for intermixing with the\n",
    "# content image.\n",
    "NOISE_RATIO = 0.6\n",
    "# Constant to put more emphasis on content loss.\n",
    "BETA = 5\n",
    "# Constant to put more emphasis on style loss.\n",
    "ALPHA = 100\n",
    "# Path to the deep learning model. This is more than 500MB so will not be\n",
    "# included in the repository, but available to download at the model Zoo:\n",
    "# Link: https://github.com/BVLC/caffe/wiki/Model-Zoo\n",
    "#\n",
    "# Pick the VGG 19-layer model by from the paper \"Very Deep Convolutional \n",
    "# Networks for Large-Scale Image Recognition\".\n",
    "VGG_MODEL = '/home/liuzixuan/实训/02-用Python快速实现图片的风格迁移/刘子璇/imagenet-vgg-verydeep-19.mat'\n",
    "# The mean to subtract from the input to the VGG model. This is the mean that\n",
    "# when the VGG was used to train. Minor changes to this will make a lot of\n",
    "# difference to the performance of model.\n",
    "MEAN_VALUES = np.array([123.68, 116.779, 103.939]).reshape((1,1,1,3))"
   ]
  },
  {
   "cell_type": "code",
   "execution_count": 4,
   "metadata": {},
   "outputs": [],
   "source": [
    "def load_vgg_model(path):\n",
    "    \"\"\"\n",
    "    Returns a model for the purpose of 'painting' the picture.\n",
    "    Takes only the convolution layer weights and wrap using the TensorFlow\n",
    "    Conv2d, Relu and AveragePooling layer. VGG actually uses maxpool but\n",
    "    the paper indicates that using AveragePooling yields better results.\n",
    "    The last few fully connected layers are not used.\n",
    "    Here is the detailed configuration of the VGG model:\n",
    "        0 is conv1_1 (3, 3, 3, 64)\n",
    "        1 is relu\n",
    "        2 is conv1_2 (3, 3, 64, 64)\n",
    "        3 is relu    \n",
    "        4 is maxpool\n",
    "        5 is conv2_1 (3, 3, 64, 128)\n",
    "        6 is relu\n",
    "        7 is conv2_2 (3, 3, 128, 128)\n",
    "        8 is relu\n",
    "        9 is maxpool\n",
    "        10 is conv3_1 (3, 3, 128, 256)\n",
    "        11 is relu\n",
    "        12 is conv3_2 (3, 3, 256, 256)\n",
    "        13 is relu\n",
    "        14 is conv3_3 (3, 3, 256, 256)\n",
    "        15 is relu\n",
    "        16 is conv3_4 (3, 3, 256, 256)\n",
    "        17 is relu\n",
    "        18 is maxpool\n",
    "        19 is conv4_1 (3, 3, 256, 512)\n",
    "        20 is relu\n",
    "        21 is conv4_2 (3, 3, 512, 512)\n",
    "        22 is relu\n",
    "        23 is conv4_3 (3, 3, 512, 512)\n",
    "        24 is relu\n",
    "        25 is conv4_4 (3, 3, 512, 512)\n",
    "        26 is relu\n",
    "        27 is maxpool\n",
    "        28 is conv5_1 (3, 3, 512, 512)\n",
    "        29 is relu\n",
    "        30 is conv5_2 (3, 3, 512, 512)\n",
    "        31 is relu\n",
    "        32 is conv5_3 (3, 3, 512, 512)\n",
    "        33 is relu\n",
    "        34 is conv5_4 (3, 3, 512, 512)\n",
    "        35 is relu\n",
    "        36 is maxpool\n",
    "        37 is fullyconnected (7, 7, 512, 4096)\n",
    "        38 is relu\n",
    "        39 is fullyconnected (1, 1, 4096, 4096)\n",
    "        40 is relu\n",
    "        41 is fullyconnected (1, 1, 4096, 1000)\n",
    "        42 is softmax\n",
    "    \"\"\"\n",
    "    vgg = scipy.io.loadmat(path)\n",
    "\n",
    "    vgg_layers = vgg['layers']\n",
    "    def _weights(layer, expected_layer_name):\n",
    "        \"\"\"\n",
    "        Return the weights and bias from the VGG model for a given layer.\n",
    "        \"\"\"\n",
    "        W = vgg_layers[0][layer][0][0][0][0][0]\n",
    "        b = vgg_layers[0][layer][0][0][0][0][1]\n",
    "        layer_name = vgg_layers[0][layer][0][0][-2]\n",
    "        assert layer_name == expected_layer_name\n",
    "        return W, b\n",
    "\n",
    "    def _relu(conv2d_layer):\n",
    "        \"\"\"\n",
    "        Return the RELU function wrapped over a TensorFlow layer. Expects a\n",
    "        Conv2d layer input.\n",
    "        \"\"\"\n",
    "        return tf.nn.relu(conv2d_layer)\n",
    "\n",
    "    def _conv2d(prev_layer, layer, layer_name):\n",
    "        \"\"\"\n",
    "        Return the Conv2D layer using the weights, biases from the VGG\n",
    "        model at 'layer'.\n",
    "        \"\"\"\n",
    "        W, b = _weights(layer, layer_name)\n",
    "        W = tf.constant(W)\n",
    "        b = tf.constant(np.reshape(b, (b.size)))\n",
    "        return tf.nn.conv2d(\n",
    "            prev_layer, filter=W, strides=[1, 1, 1, 1], padding='SAME') + b\n",
    "\n",
    "    def _conv2d_relu(prev_layer, layer, layer_name):\n",
    "        \"\"\"\n",
    "        Return the Conv2D + RELU layer using the weights, biases from the VGG\n",
    "        model at 'layer'.\n",
    "        \"\"\"\n",
    "        return _relu(_conv2d(prev_layer, layer, layer_name))\n",
    "\n",
    "    def _avgpool(prev_layer):\n",
    "        \"\"\"\n",
    "        Return the AveragePooling layer.\n",
    "        \"\"\"\n",
    "        return tf.nn.avg_pool(prev_layer, ksize=[1, 2, 2, 1], strides=[1, 2, 2, 1], padding='SAME')\n",
    "\n",
    "    # Constructs the graph model.\n",
    "    graph = {}\n",
    "    graph['input']   = tf.Variable(np.zeros((1, IMAGE_HEIGHT, IMAGE_WIDTH, COLOR_CHANNELS)), dtype = 'float32')\n",
    "    graph['conv1_1']  = _conv2d_relu(graph['input'], 0, 'conv1_1')\n",
    "    graph['conv1_2']  = _conv2d_relu(graph['conv1_1'], 2, 'conv1_2')\n",
    "    graph['avgpool1'] = _avgpool(graph['conv1_2'])\n",
    "    graph['conv2_1']  = _conv2d_relu(graph['avgpool1'], 5, 'conv2_1')\n",
    "    graph['conv2_2']  = _conv2d_relu(graph['conv2_1'], 7, 'conv2_2')\n",
    "    graph['avgpool2'] = _avgpool(graph['conv2_2'])\n",
    "    graph['conv3_1']  = _conv2d_relu(graph['avgpool2'], 10, 'conv3_1')\n",
    "    graph['conv3_2']  = _conv2d_relu(graph['conv3_1'], 12, 'conv3_2')\n",
    "    graph['conv3_3']  = _conv2d_relu(graph['conv3_2'], 14, 'conv3_3')\n",
    "    graph['conv3_4']  = _conv2d_relu(graph['conv3_3'], 16, 'conv3_4')\n",
    "    graph['avgpool3'] = _avgpool(graph['conv3_4'])\n",
    "    graph['conv4_1']  = _conv2d_relu(graph['avgpool3'], 19, 'conv4_1')\n",
    "    graph['conv4_2']  = _conv2d_relu(graph['conv4_1'], 21, 'conv4_2')\n",
    "    graph['conv4_3']  = _conv2d_relu(graph['conv4_2'], 23, 'conv4_3')\n",
    "    graph['conv4_4']  = _conv2d_relu(graph['conv4_3'], 25, 'conv4_4')\n",
    "    graph['avgpool4'] = _avgpool(graph['conv4_4'])\n",
    "    graph['conv5_1']  = _conv2d_relu(graph['avgpool4'], 28, 'conv5_1')\n",
    "    graph['conv5_2']  = _conv2d_relu(graph['conv5_1'], 30, 'conv5_2')\n",
    "    graph['conv5_3']  = _conv2d_relu(graph['conv5_2'], 32, 'conv5_3')\n",
    "    graph['conv5_4']  = _conv2d_relu(graph['conv5_3'], 34, 'conv5_4')\n",
    "    graph['avgpool5'] = _avgpool(graph['conv5_4'])\n",
    "    return graph"
   ]
  },
  {
   "cell_type": "code",
   "execution_count": 5,
   "metadata": {},
   "outputs": [],
   "source": [
    "def content_loss_func(sess, model):\n",
    "    \"\"\"\n",
    "    Content loss function as defined in the paper.\n",
    "    \"\"\"\n",
    "    def _content_loss(p, x):\n",
    "        # N is the number of filters (at layer l).\n",
    "        N = p.shape[3]\n",
    "        # M is the height times the width of the feature map (at layer l).\n",
    "        M = p.shape[1] * p.shape[2]\n",
    "        # Interestingly, the paper uses this form instead:\n",
    "        #\n",
    "        #   0.5 * tf.reduce_sum(tf.pow(x - p, 2)) \n",
    "        #\n",
    "        # But this form is very slow in \"painting\" and thus could be missing\n",
    "        # out some constants (from what I see in other source code), so I'll\n",
    "        # replicate the same normalization constant as used in style loss.\n",
    "        return (1 / (4 * N * M)) * tf.reduce_sum(tf.pow(x - p, 2))\n",
    "    return _content_loss(sess.run(model['conv4_2']), model['conv4_2'])"
   ]
  },
  {
   "cell_type": "code",
   "execution_count": 7,
   "metadata": {},
   "outputs": [],
   "source": [
    "# Layers to use. We will use these layers as advised in the paper.\n",
    "# To have softer features, increase the weight of the higher layers\n",
    "# (conv5_1) and decrease the weight of the lower layers (conv1_1).\n",
    "# To have harder features, decrease the weight of the higher layers\n",
    "# (conv5_1) and increase the weight of the lower layers (conv1_1).\n",
    "STYLE_LAYERS = [\n",
    "    ('conv1_1', 0.5),\n",
    "    ('conv2_1', 1.0),\n",
    "    ('conv3_1', 1.5),\n",
    "    ('conv4_1', 3.0),\n",
    "    ('conv5_1', 4.0),\n",
    "]\n",
    "\n",
    "def style_loss_func(sess, model):\n",
    "    \"\"\"\n",
    "    Style loss function as defined in the paper.\n",
    "    \"\"\"\n",
    "    def _gram_matrix(F, N, M):\n",
    "        \"\"\"\n",
    "        The gram matrix G.\n",
    "        \"\"\"\n",
    "        Ft = tf.reshape(F, (M, N))\n",
    "        return tf.matmul(tf.transpose(Ft), Ft)\n",
    "\n",
    "    def _style_loss(a, x):\n",
    "        \"\"\"\n",
    "        The style loss calculation.\n",
    "        \"\"\"\n",
    "        # N is the number of filters (at layer l).\n",
    "        N = a.shape[3]\n",
    "        # M is the height times the width of the feature map (at layer l).\n",
    "        M = a.shape[1] * a.shape[2]\n",
    "        # A is the style representation of the original image (at layer l).\n",
    "        A = _gram_matrix(a, N, M)\n",
    "        # G is the style representation of the generated image (at layer l).\n",
    "        G = _gram_matrix(x, N, M)\n",
    "        result = (1 / (4 * N**2 * M**2)) * tf.reduce_sum(tf.pow(G - A, 2))\n",
    "        return result\n",
    "\n",
    "    E = [_style_loss(sess.run(model[layer_name]), model[layer_name]) for layer_name, _ in STYLE_LAYERS]\n",
    "    W = [w for _, w in STYLE_LAYERS]\n",
    "    loss = sum([W[l] * E[l] for l in range(len(STYLE_LAYERS))])\n",
    "    return loss"
   ]
  },
  {
   "cell_type": "code",
   "execution_count": 67,
   "metadata": {},
   "outputs": [],
   "source": [
    "def generate_noise_image(content_image, noise_ratio = NOISE_RATIO):\n",
    "    \"\"\"\n",
    "    Returns a noise image intermixed with the content image at a certain ratio.\n",
    "    \"\"\"\n",
    "    noise_image = np.random.uniform(\n",
    "            -20, 20,\n",
    "            (1, IMAGE_HEIGHT, IMAGE_WIDTH, COLOR_CHANNELS)).astype('float32')\n",
    "    # White noise image from the content representation. Take a weighted average\n",
    "    # of the values\n",
    "    input_image = noise_image * noise_ratio + content_image * (1 - noise_ratio)\n",
    "    return input_image\n",
    "\n",
    "def load_image(path):\n",
    "    image = scipy.misc.imread(path)\n",
    "    # Resize the image for convnet input, there is no change but just\n",
    "    # add an extra dimension.\n",
    "    image = scipy.misc.imresize(image,(224,224,3))\n",
    "    image = np.reshape(image, ((1,) + image.shape))\n",
    "    # Input to the VGG model expects the mean to be subtracted.\n",
    "    image = image - MEAN_VALUES\n",
    "    return image\n",
    "\n",
    "def save_image(path, image):\n",
    "    # Output should add back the mean.\n",
    "    image = image + MEAN_VALUES\n",
    "    # Get rid of the first useless dimension, what remains is the image.\n",
    "    image = image[0]\n",
    "    image = np.clip(image, 0, 255).astype('uint8')\n",
    "    scipy.misc.imsave(path, image)"
   ]
  },
  {
   "cell_type": "code",
   "execution_count": 9,
   "metadata": {},
   "outputs": [],
   "source": [
    "sess = tf.InteractiveSession()"
   ]
  },
  {
   "cell_type": "code",
   "execution_count": 68,
   "metadata": {},
   "outputs": [
    {
     "name": "stderr",
     "output_type": "stream",
     "text": [
      "/home/liuzixuan/test/lib/python3.5/site-packages/ipykernel_launcher.py:14: DeprecationWarning: `imread` is deprecated!\n",
      "`imread` is deprecated in SciPy 1.0.0, and will be removed in 1.2.0.\n",
      "Use ``imageio.imread`` instead.\n",
      "  \n",
      "/home/liuzixuan/test/lib/python3.5/site-packages/ipykernel_launcher.py:17: DeprecationWarning: `imresize` is deprecated!\n",
      "`imresize` is deprecated in SciPy 1.0.0, and will be removed in 1.2.0.\n",
      "Use ``skimage.transform.resize`` instead.\n",
      "Clipping input data to the valid range for imshow with RGB data ([0..1] for floats or [0..255] for integers).\n"
     ]
    },
    {
     "data": {
      "text/plain": [
       "<matplotlib.image.AxesImage at 0x7f36c4424a90>"
      ]
     },
     "execution_count": 68,
     "metadata": {},
     "output_type": "execute_result"
    },
    {
     "data": {
      "image/png": "[encoded data removed]",
      "text/plain": [
       "<Figure size 432x288 with 1 Axes>"
      ]
     },
     "metadata": {
      "needs_background": "light"
     },
     "output_type": "display_data"
    }
   ],
   "source": [
    "content_image = load_image(CONTENT_IMAGE)\n",
    "imshow(content_image[0])"
   ]
  },
  {
   "cell_type": "code",
   "execution_count": 69,
   "metadata": {},
   "outputs": [
    {
     "name": "stderr",
     "output_type": "stream",
     "text": [
      "/home/liuzixuan/test/lib/python3.5/site-packages/ipykernel_launcher.py:14: DeprecationWarning: `imread` is deprecated!\n",
      "`imread` is deprecated in SciPy 1.0.0, and will be removed in 1.2.0.\n",
      "Use ``imageio.imread`` instead.\n",
      "  \n",
      "/home/liuzixuan/test/lib/python3.5/site-packages/ipykernel_launcher.py:17: DeprecationWarning: `imresize` is deprecated!\n",
      "`imresize` is deprecated in SciPy 1.0.0, and will be removed in 1.2.0.\n",
      "Use ``skimage.transform.resize`` instead.\n",
      "Clipping input data to the valid range for imshow with RGB data ([0..1] for floats or [0..255] for integers).\n"
     ]
    },
    {
     "data": {
      "text/plain": [
       "<matplotlib.image.AxesImage at 0x7f36c43e8320>"
      ]
     },
     "execution_count": 69,
     "metadata": {},
     "output_type": "execute_result"
    },
    {
     "data": {
      "image/png": "[encoded data removed]",
      "text/plain": [
       "<Figure size 432x288 with 1 Axes>"
      ]
     },
     "metadata": {
      "needs_background": "light"
     },
     "output_type": "display_data"
    }
   ],
   "source": [
    "style_image = load_image(STYLE_IMAGE)\n",
    "#print(type(style_image))\n",
    "imshow(style_image[0])"
   ]
  },
  {
   "cell_type": "code",
   "execution_count": 59,
   "metadata": {},
   "outputs": [
    {
     "name": "stdout",
     "output_type": "stream",
     "text": [
      "{'conv3_3': <tf.Tensor 'Relu_22:0' shape=(1, 56, 56, 256) dtype=float32>, 'conv3_4': <tf.Tensor 'Relu_23:0' shape=(1, 56, 56, 256) dtype=float32>, 'conv5_2': <tf.Tensor 'Relu_29:0' shape=(1, 14, 14, 512) dtype=float32>, 'avgpool3': <tf.Tensor 'AvgPool_7:0' shape=(1, 28, 28, 256) dtype=float32>, 'conv5_1': <tf.Tensor 'Relu_28:0' shape=(1, 14, 14, 512) dtype=float32>, 'avgpool1': <tf.Tensor 'AvgPool_5:0' shape=(1, 112, 112, 64) dtype=float32>, 'conv4_2': <tf.Tensor 'Relu_25:0' shape=(1, 28, 28, 512) dtype=float32>, 'conv4_1': <tf.Tensor 'Relu_24:0' shape=(1, 28, 28, 512) dtype=float32>, 'avgpool4': <tf.Tensor 'AvgPool_8:0' shape=(1, 14, 14, 512) dtype=float32>, 'conv3_2': <tf.Tensor 'Relu_21:0' shape=(1, 56, 56, 256) dtype=float32>, 'conv5_4': <tf.Tensor 'Relu_31:0' shape=(1, 14, 14, 512) dtype=float32>, 'conv1_1': <tf.Tensor 'Relu_16:0' shape=(1, 224, 224, 64) dtype=float32>, 'avgpool5': <tf.Tensor 'AvgPool_9:0' shape=(1, 7, 7, 512) dtype=float32>, 'conv3_1': <tf.Tensor 'Relu_20:0' shape=(1, 56, 56, 256) dtype=float32>, 'conv5_3': <tf.Tensor 'Relu_30:0' shape=(1, 14, 14, 512) dtype=float32>, 'conv4_3': <tf.Tensor 'Relu_26:0' shape=(1, 28, 28, 512) dtype=float32>, 'conv1_2': <tf.Tensor 'Relu_17:0' shape=(1, 224, 224, 64) dtype=float32>, 'conv2_2': <tf.Tensor 'Relu_19:0' shape=(1, 112, 112, 128) dtype=float32>, 'input': <tf.Variable 'Variable_1:0' shape=(1, 224, 224, 3) dtype=float32_ref>, 'conv4_4': <tf.Tensor 'Relu_27:0' shape=(1, 28, 28, 512) dtype=float32>, 'conv2_1': <tf.Tensor 'Relu_18:0' shape=(1, 112, 112, 128) dtype=float32>, 'avgpool2': <tf.Tensor 'AvgPool_6:0' shape=(1, 56, 56, 128) dtype=float32>}\n"
     ]
    }
   ],
   "source": [
    "model = load_vgg_model(VGG_MODEL)\n",
    "print(model)"
   ]
  },
  {
   "cell_type": "code",
   "execution_count": 70,
   "metadata": {},
   "outputs": [
    {
     "name": "stdout",
     "output_type": "stream",
     "text": [
      "(1, 224, 224, 3)\n",
      "(1, 224, 224, 3)\n"
     ]
    }
   ],
   "source": [
    "print(content_image.shape)\n",
    "print(style_image.shape)"
   ]
  },
  {
   "cell_type": "code",
   "execution_count": 71,
   "metadata": {},
   "outputs": [
    {
     "name": "stderr",
     "output_type": "stream",
     "text": [
      "Clipping input data to the valid range for imshow with RGB data ([0..1] for floats or [0..255] for integers).\n"
     ]
    },
    {
     "data": {
      "text/plain": [
       "<matplotlib.image.AxesImage at 0x7f36c42decf8>"
      ]
     },
     "execution_count": 71,
     "metadata": {},
     "output_type": "execute_result"
    },
    {
     "data": {
      "image/png": "[encoded data removed]",
      "text/plain": [
       "<Figure size 432x288 with 1 Axes>"
      ]
     },
     "metadata": {
      "needs_background": "light"
     },
     "output_type": "display_data"
    }
   ],
   "source": [
    "# Generate the white noise and content presentation mixed image\n",
    "# which will be the basis for the algorithm to \"paint\".\n",
    "input_image = generate_noise_image(content_image)\n",
    "imshow(input_image[0])"
   ]
  },
  {
   "cell_type": "code",
   "execution_count": 73,
   "metadata": {},
   "outputs": [],
   "source": [
    "sess.run(tf.global_variables_initializer())"
   ]
  },
  {
   "cell_type": "code",
   "execution_count": 74,
   "metadata": {},
   "outputs": [],
   "source": [
    "# Construct content_loss using content_image.\n",
    "sess.run(model['input'].assign(content_image))\n",
    "content_loss = content_loss_func(sess, model)"
   ]
  },
  {
   "cell_type": "code",
   "execution_count": 75,
   "metadata": {},
   "outputs": [],
   "source": [
    "# Construct style_loss using style_image.\n",
    "sess.run(model['input'].assign(style_image))\n",
    "style_loss = style_loss_func(sess, model)"
   ]
  },
  {
   "cell_type": "code",
   "execution_count": 76,
   "metadata": {},
   "outputs": [],
   "source": [
    "# Instantiate equation 7 of the paper.\n",
    "total_loss = BETA * content_loss + ALPHA * style_loss"
   ]
  },
  {
   "cell_type": "code",
   "execution_count": 77,
   "metadata": {},
   "outputs": [],
   "source": [
    "# From the paper: jointly minimize the distance of a white noise image\n",
    "# from the content representation of the photograph in one layer of\n",
    "# the neywork and the style representation of the painting in a number\n",
    "# of layers of the CNN.\n",
    "#\n",
    "# The content is built from one layer, while the style is from five\n",
    "# layers. Then we minimize the total_loss, which is the equation 7.\n",
    "optimizer = tf.train.AdamOptimizer(2.0)\n",
    "train_step = optimizer.minimize(total_loss)"
   ]
  },
  {
   "cell_type": "code",
   "execution_count": 78,
   "metadata": {},
   "outputs": [
    {
     "data": {
      "text/plain": [
       "array([[[[ 19.169804 ,  27.95425  ,  36.826096 ],\n",
       "         [ 23.09784  ,  31.730158 ,  52.209152 ],\n",
       "         [ 16.73476  ,  39.089584 ,  44.445427 ],\n",
       "         ...,\n",
       "         [ 24.459267 ,  28.87913  ,  49.12886  ],\n",
       "         [  2.8133395, -11.713387 ,  16.192951 ],\n",
       "         [-18.942223 , -15.926199 , -20.007431 ]],\n",
       "\n",
       "        [[ 38.680225 ,  35.23337  ,  37.873642 ],\n",
       "         [ 30.070055 ,  33.883606 ,  49.30657  ],\n",
       "         [ 38.046738 ,  44.83495  ,  48.566914 ],\n",
       "         ...,\n",
       "         [-11.377506 , -13.727618 , -13.153259 ],\n",
       "         [-46.733055 , -39.239147 , -26.152119 ],\n",
       "         [-31.84902  , -33.30526  , -21.400684 ]],\n",
       "\n",
       "        [[ 26.426807 ,  23.82175  ,  50.8883   ],\n",
       "         [ 24.698828 ,  41.51535  ,  46.23387  ],\n",
       "         [ 31.093227 ,  22.874197 ,  41.512375 ],\n",
       "         ...,\n",
       "         [-37.77479  , -30.050995 , -18.831942 ],\n",
       "         [-33.81575  , -41.682724 , -20.80159  ],\n",
       "         [-38.177525 , -21.391937 , -15.229851 ]],\n",
       "\n",
       "        ...,\n",
       "\n",
       "        [[ 19.909363 ,  18.347395 ,  25.717781 ],\n",
       "         [ 20.837719 ,  29.637962 ,  24.431011 ],\n",
       "         [  9.929969 ,  33.746815 ,  34.123333 ],\n",
       "         ...,\n",
       "         [-14.792265 ,  -9.686844 ,  -8.788435 ],\n",
       "         [-29.783348 , -15.336488 , -14.684809 ],\n",
       "         [-21.406343 , -27.697388 , -33.023335 ]],\n",
       "\n",
       "        [[  8.410134 ,  18.532957 ,  22.1734   ],\n",
       "         [  7.2917447,  21.363165 ,  36.18951  ],\n",
       "         [ 10.782804 ,  25.883167 ,  30.35475  ],\n",
       "         ...,\n",
       "         [-21.020346 ,  -8.737581 , -22.172028 ],\n",
       "         [-18.351387 , -22.224573 , -14.824167 ],\n",
       "         [ -9.108365 , -20.17054  , -28.102022 ]],\n",
       "\n",
       "        [[ 14.758449 ,  25.740246 ,  35.474937 ],\n",
       "         [ 27.74175  ,  22.04803  ,  28.569939 ],\n",
       "         [ 13.134346 ,  20.69002  ,  26.822218 ],\n",
       "         ...,\n",
       "         [-23.958784 , -10.2188425, -12.67178  ],\n",
       "         [-15.701933 , -15.580976 , -18.971474 ],\n",
       "         [-13.5586815, -17.88747  , -29.188318 ]]]], dtype=float32)"
      ]
     },
     "execution_count": 78,
     "metadata": {},
     "output_type": "execute_result"
    }
   ],
   "source": [
    "sess.run(tf.initialize_all_variables())\n",
    "sess.run(model['input'].assign(input_image))"
   ]
  },
  {
   "cell_type": "code",
   "execution_count": 79,
   "metadata": {},
   "outputs": [],
   "source": [
    "# Number of iterations to run.\n",
    "ITERATIONS = 1000  # The art.py uses 5000 iterations, and yields far more appealing results. If you can wait, use 5000."
   ]
  },
  {
   "cell_type": "code",
   "execution_count": 81,
   "metadata": {},
   "outputs": [
    {
     "name": "stdout",
     "output_type": "stream",
     "text": [
      "Iteration 0\n",
      "sum :  287686.44\n",
      "cost:  142847210000.0\n"
     ]
    },
    {
     "name": "stderr",
     "output_type": "stream",
     "text": [
      "/home/liuzixuan/test/lib/python3.5/site-packages/ipykernel_launcher.py:29: DeprecationWarning: `imsave` is deprecated!\n",
      "`imsave` is deprecated in SciPy 1.0.0, and will be removed in 1.2.0.\n",
      "Use ``imageio.imwrite`` instead.\n"
     ]
    },
    {
     "name": "stdout",
     "output_type": "stream",
     "text": [
      "Iteration 100\n",
      "sum :  -47961.555\n",
      "cost:  2055308200.0\n",
      "Iteration 200\n",
      "sum :  -229229.73\n",
      "cost:  1118426000.0\n",
      "Iteration 300\n",
      "sum :  -384911.44\n",
      "cost:  778531650.0\n",
      "Iteration 400\n",
      "sum :  -538867.56\n",
      "cost:  590078200.0\n",
      "Iteration 500\n",
      "sum :  -691561.1\n",
      "cost:  465181280.0\n",
      "Iteration 600\n",
      "sum :  -840083.9\n",
      "cost:  385534620.0\n",
      "Iteration 700\n",
      "sum :  -983813.0\n",
      "cost:  329451360.0\n",
      "Iteration 800\n",
      "sum :  -1122797.8\n",
      "cost:  287458370.0\n",
      "Iteration 900\n",
      "sum :  -1256183.2\n",
      "cost:  255492780.0\n"
     ]
    }
   ],
   "source": [
    "sess.run(tf.initialize_all_variables())\n",
    "sess.run(model['input'].assign(input_image))\n",
    "for it in range(ITERATIONS):\n",
    "    sess.run(train_step)\n",
    "    if it%100 == 0:\n",
    "        # Print every 100 iteration.\n",
    "        mixed_image = sess.run(model['input'])\n",
    "        print('Iteration %d' % (it))\n",
    "        print('sum : ', sess.run(tf.reduce_sum(mixed_image)))\n",
    "        print('cost: ', sess.run(total_loss))\n",
    "\n",
    "        if not os.path.exists(OUTPUT_DIR):\n",
    "            os.mkdir(OUTPUT_DIR)\n",
    "\n",
    "        filename = '/home/liuzixuan/实训/02-用Python快速实现图片的风格迁移/output/%d.jpg' % (it)\n",
    "        save_image(filename, mixed_image)"
   ]
  },
  {
   "cell_type": "code",
   "execution_count": null,
   "metadata": {},
   "outputs": [],
   "source": []
  }
 ],
 "metadata": {
  "kernelspec": {
   "display_name": "Python 3",
   "language": "python",
   "name": "python3"
  },
  "language_info": {
   "codemirror_mode": {
    "name": "ipython",
    "version": 3
   },
   "file_extension": ".py",
   "mimetype": "text/x-python",
   "name": "python",
   "nbconvert_exporter": "python",
   "pygments_lexer": "ipython3",
   "version": "3.5.2"
  }
 },
 "nbformat": 4,
 "nbformat_minor": 2
}
